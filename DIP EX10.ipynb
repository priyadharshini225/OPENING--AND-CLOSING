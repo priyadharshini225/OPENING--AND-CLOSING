{
 "cells": [
  {
   "cell_type": "code",
   "execution_count": null,
   "id": "57cd843a",
   "metadata": {},
   "outputs": [],
   "source": [
    "PRIYADHARSHINI S\n",
    "212223240129\n",
    "\n",
    "import cv2\n",
    "import numpy as np\n",
    "import matplotlib.pyplot as plt\n",
    "#i) Create the Text using cv2.putText\n",
    "img1=np.zeros((300,600),dtype='uint8')\n",
    "font=cv2.FONT_ITALIC\n",
    "img2=cv2.putText(img1,\"PRIYA S\",(5,100),font,3,(255,0,0),5,cv2.LINE_AA)\n",
    "cv2.imshow(\"Original\",img2)\n",
    "cv2.waitKey(0)\n",
    "cv2.destroyAllWindows()\n",
    "#ii) Create the structuring element\n",
    "#kernel1=cv2.getStructuringElement(cv2.MORPH_RECT,(21,21))\n",
    "#kernel2=cv2.getStructuringElement(cv2.MORPH_RECT,(9,9))\n",
    "kernel1=cv2.getStructuringElement(cv2.MORPH_RECT,(11,11))\n",
    "kernel2=cv2.getStructuringElement(cv2.MORPH_RECT,(5,5))\n",
    "#iii) Use Opening operation\n",
    "img4=cv2.morphologyEx(img1,cv2.MORPH_OPEN,kernel2)\n",
    "cv2.imshow(\"Opening\",img4)\n",
    "cv2.waitKey(0)\n",
    "cv2.destroyAllWindows()\n",
    "#iv) Use Closing Operation\n",
    "img3=cv2.morphologyEx(img1,cv2.MORPH_CLOSE,kernel1)\n",
    "cv2.imshow(\"Closing\",img3)\n",
    "cv2.waitKey(0)\n",
    "cv2.destroyAllWindows()\n",
    "\n",
    "PRIYADHARSHINI S\n",
    "212223240129"
   ]
  },
  {
   "cell_type": "code",
   "execution_count": null,
   "id": "c929a658",
   "metadata": {},
   "outputs": [],
   "source": []
  }
 ],
 "metadata": {
  "kernelspec": {
   "display_name": "Python 3 (ipykernel)",
   "language": "python",
   "name": "python3"
  },
  "language_info": {
   "codemirror_mode": {
    "name": "ipython",
    "version": 3
   },
   "file_extension": ".py",
   "mimetype": "text/x-python",
   "name": "python",
   "nbconvert_exporter": "python",
   "pygments_lexer": "ipython3",
   "version": "3.11.3"
  }
 },
 "nbformat": 4,
 "nbformat_minor": 5
}
